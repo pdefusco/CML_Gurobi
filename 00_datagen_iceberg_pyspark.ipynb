{
 "cells": [
  {
   "cell_type": "code",
   "execution_count": 1,
   "id": "961b8a72-7b8e-4d1d-8587-cf22c26d4fc6",
   "metadata": {},
   "outputs": [],
   "source": [
    "import os\n",
    "import numpy as np\n",
    "import pandas as pd\n",
    "from datetime import datetime\n",
    "import dbldatagen as dg\n",
    "import dbldatagen.distributions as dist\n",
    "from dbldatagen import FakerTextFactory, DataGenerator, fakerText\n",
    "from pyspark.sql.types import LongType, FloatType, IntegerType, StringType, \\\n",
    "                              DoubleType, BooleanType, ShortType, \\\n",
    "                              TimestampType, DateType, DecimalType, \\\n",
    "                              ByteType, BinaryType, ArrayType, MapType, \\\n",
    "                              StructType, StructField"
   ]
  },
  {
   "cell_type": "code",
   "execution_count": 2,
   "id": "4bb02240-93a4-445a-9495-30841d4090c4",
   "metadata": {},
   "outputs": [],
   "source": [
    "class DataGen:\n",
    "\n",
    "    '''Class to Generate Synthetic Data'''\n",
    "\n",
    "    def __init__(self, spark):\n",
    "        self.spark = spark\n",
    "\n",
    "    def transactionsDataGen(self, shuffle_partitions_requested = 10, partitions_requested = 10, data_rows = 10000):\n",
    "\n",
    "        # partition parameters etc.\n",
    "        self.spark.conf.set(\"spark.sql.shuffle.partitions\", shuffle_partitions_requested)\n",
    "\n",
    "        Dataspec = (DataGenerator(self.spark, rows=data_rows, partitions=partitions_requested)\n",
    "                    .withColumn(\"p[1]\", \"float\", minValue=300, maxValue=400, random=True)\n",
    "                    .withColumn(\"p[2]\", \"float\", minValue=100, maxValue=300, random=True)\n",
    "                    .withColumn(\"n[1]\", \"float\", minValue=0, maxValue=200, random=True)\n",
    "                    )\n",
    "\n",
    "        df = Dataspec.build()\n",
    "\n",
    "        return df"
   ]
  },
  {
   "cell_type": "code",
   "execution_count": 3,
   "id": "81311e17-0bdc-48e6-b775-e16e41645146",
   "metadata": {},
   "outputs": [
    {
     "name": "stderr",
     "output_type": "stream",
     "text": [
      "Setting spark.hadoop.yarn.resourcemanager.principal to pauldefusco\n"
     ]
    },
    {
     "name": "stdout",
     "output_type": "stream",
     "text": [
      "Spark Application Id:spark-application-1724886953627\n"
     ]
    },
    {
     "name": "stderr",
     "output_type": "stream",
     "text": [
      "                                                                                \r"
     ]
    }
   ],
   "source": [
    "import cml.data_v1 as cmldata\n",
    "\n",
    "# Sample in-code customization of spark configurations\n",
    "#from pyspark import SparkContext\n",
    "#SparkContext.setSystemProperty('spark.executor.cores', '1')\n",
    "#SparkContext.setSystemProperty('spark.executor.memory', '2g')\n",
    "\n",
    "CONNECTION_NAME = \"paul-aug26-aw-dl\"\n",
    "conn = cmldata.get_connection(CONNECTION_NAME)\n",
    "spark = conn.get_spark_session()\n",
    "\n",
    "myDG = DataGen(spark)\n",
    "\n",
    "firstBatchDf = myDG.transactionsDataGen()\n",
    "\n",
    "#Save DF as Iceberg Table\n",
    "firstBatchDf.writeTo(\"DEFAULT.SALES_TABLE\").using(\"iceberg\").createOrReplace()\n",
    "#pricesDf.write.format(\"json\").mode(\"overwrite\").save(\"s3a://goes-se-sandbox01/datalake/pdefusco/transactions/pricesDf.json\")"
   ]
  },
  {
   "cell_type": "code",
   "execution_count": null,
   "id": "7f3754a4-178d-4b04-a8a3-8e65b1ad2316",
   "metadata": {},
   "outputs": [],
   "source": []
  },
  {
   "cell_type": "code",
   "execution_count": null,
   "id": "67d5d7d9-9a78-496a-a4cd-f0a033030b58",
   "metadata": {},
   "outputs": [],
   "source": []
  },
  {
   "cell_type": "code",
   "execution_count": null,
   "id": "502c2d52-bebb-44a7-a966-71d9f5de3aef",
   "metadata": {},
   "outputs": [],
   "source": []
  }
 ],
 "metadata": {
  "kernelspec": {
   "display_name": "Python 3 (ipykernel)",
   "language": "python",
   "name": "python3"
  },
  "language_info": {
   "codemirror_mode": {
    "name": "ipython",
    "version": 3
   },
   "file_extension": ".py",
   "mimetype": "text/x-python",
   "name": "python",
   "nbconvert_exporter": "python",
   "pygments_lexer": "ipython3",
   "version": "3.10.13"
  }
 },
 "nbformat": 4,
 "nbformat_minor": 5
}
