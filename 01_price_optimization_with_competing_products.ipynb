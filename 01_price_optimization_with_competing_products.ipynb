{
 "cells": [
  {
   "cell_type": "markdown",
   "id": "7f7d69f9",
   "metadata": {
    "id": "7f7d69f9"
   },
   "source": [
    "Copyright © 2024 Gurobi Optimization, LLC\n",
    "\n",
    "# Price Optimization with Competing Products\n",
    "Finding the delicate balance between price and demand is a difficult problem to solve and one that is prevalent in a number of huge industries like retail, e-commerce, ticketing, and hospitality.\n",
    "\n",
    "It just so happens that this is a problem that data scientists have recently been getting better and better at addressing. Still, a key piece is missing: How can I make the right pricing decision given all the other constraints and business rules that exist for this problem? That's where optimization comes in.\n",
    "\n",
    "In this scenario, we have a product that has several categories, but we have a limited amount of \"space\" for our products. This could be shelf or warehouse space in retail, seats for events, or for airline ticketing, or rooms at a hotel.\n",
    "\n",
    "This problem considers two similar products that are offered where it's our job to use the data available with some optimization know-how to determine the optimal mix of products to offer that maximize revenue while also adhering to a few other business rules. First, we'll create a predictive model to forecast sales based on the prices of each product. Then we'll build an optimization model to find this optimal mix. Finally, we’ll also use the Gurobi-sponsored open-source package Gurobi Machine Learning to seamlessly combine the features of a machine learning model with a decision of an optimization model.\n",
    "\n",
    "Let’s get started!"
   ]
  },
  {
   "cell_type": "markdown",
   "id": "a5846a14",
   "metadata": {
    "id": "a5846a14"
   },
   "source": [
    "## Load required packages\n",
    "If you have a Gurobi license you can skip the installation of `gurobipy`, but always make sure you have the [latest version](https://www.gurobi.com/downloads/gurobi-software) available."
   ]
  },
  {
   "cell_type": "code",
   "execution_count": 24,
   "id": "3024295a",
   "metadata": {
    "id": "3024295a"
   },
   "outputs": [],
   "source": [
    "import gurobipy as gp\n",
    "from gurobipy import GRB\n",
    "\n",
    "import numpy as np\n",
    "import pandas as pd\n",
    "import seaborn as sns\n",
    "import matplotlib.pyplot as plt\n",
    "import warnings\n",
    "from sklearn.model_selection import train_test_split\n",
    "from sklearn import tree\n",
    "\n",
    "warnings.filterwarnings(\"ignore\")"
   ]
  },
  {
   "cell_type": "code",
   "execution_count": 25,
   "id": "62a7c310-2852-42f2-a316-ff250f2406f7",
   "metadata": {},
   "outputs": [
    {
     "name": "stderr",
     "output_type": "stream",
     "text": [
      "2024/08/28 23:17:09 INFO mlflow.tracking.fluent: Experiment with name 'Price Optimization Experiment' does not exist. Creating a new experiment.\n"
     ]
    },
    {
     "data": {
      "text/plain": [
       "<Experiment: artifact_location='/home/cdsw/.experiments/2ip5-w27x-fl33-zgbb', creation_time=None, experiment_id='2ip5-w27x-fl33-zgbb', last_update_time=None, lifecycle_stage='active', name='Price Optimization Experiment', tags={}>"
      ]
     },
     "execution_count": 25,
     "metadata": {},
     "output_type": "execute_result"
    }
   ],
   "source": [
    "import mlflow\n",
    "mlflow.set_experiment(\"Price Optimization Experiment\")"
   ]
  },
  {
   "cell_type": "markdown",
   "id": "d8c28cfd",
   "metadata": {
    "id": "d8c28cfd"
   },
   "source": [
    "## Start with some data analysis\n",
    "\n",
    "This data contains prices and sales for two of our competing products and was generated using another script, which can be found [here](). Let's load the data and take a quick look."
   ]
  },
  {
   "cell_type": "code",
   "execution_count": 26,
   "id": "2754bc36-a993-499d-9bb9-799db1060e64",
   "metadata": {},
   "outputs": [
    {
     "name": "stdout",
     "output_type": "stream",
     "text": [
      "Spark Application Id:spark-application-1724884544663\n"
     ]
    },
    {
     "name": "stderr",
     "output_type": "stream",
     "text": [
      "                                                                                \r"
     ]
    },
    {
     "data": {
      "text/html": [
       "<div>\n",
       "<style scoped>\n",
       "    .dataframe tbody tr th:only-of-type {\n",
       "        vertical-align: middle;\n",
       "    }\n",
       "\n",
       "    .dataframe tbody tr th {\n",
       "        vertical-align: top;\n",
       "    }\n",
       "\n",
       "    .dataframe thead th {\n",
       "        text-align: right;\n",
       "    }\n",
       "</style>\n",
       "<table border=\"1\" class=\"dataframe\">\n",
       "  <thead>\n",
       "    <tr style=\"text-align: right;\">\n",
       "      <th></th>\n",
       "      <th>p[1]</th>\n",
       "      <th>p[2]</th>\n",
       "      <th>n[1]</th>\n",
       "    </tr>\n",
       "  </thead>\n",
       "  <tbody>\n",
       "    <tr>\n",
       "      <th>0</th>\n",
       "      <td>362.0</td>\n",
       "      <td>216.0</td>\n",
       "      <td>63.0</td>\n",
       "    </tr>\n",
       "    <tr>\n",
       "      <th>1</th>\n",
       "      <td>392.0</td>\n",
       "      <td>223.0</td>\n",
       "      <td>160.0</td>\n",
       "    </tr>\n",
       "    <tr>\n",
       "      <th>2</th>\n",
       "      <td>311.0</td>\n",
       "      <td>192.0</td>\n",
       "      <td>131.0</td>\n",
       "    </tr>\n",
       "    <tr>\n",
       "      <th>3</th>\n",
       "      <td>349.0</td>\n",
       "      <td>160.0</td>\n",
       "      <td>67.0</td>\n",
       "    </tr>\n",
       "    <tr>\n",
       "      <th>4</th>\n",
       "      <td>327.0</td>\n",
       "      <td>254.0</td>\n",
       "      <td>97.0</td>\n",
       "    </tr>\n",
       "    <tr>\n",
       "      <th>...</th>\n",
       "      <td>...</td>\n",
       "      <td>...</td>\n",
       "      <td>...</td>\n",
       "    </tr>\n",
       "    <tr>\n",
       "      <th>9995</th>\n",
       "      <td>309.0</td>\n",
       "      <td>289.0</td>\n",
       "      <td>152.0</td>\n",
       "    </tr>\n",
       "    <tr>\n",
       "      <th>9996</th>\n",
       "      <td>376.0</td>\n",
       "      <td>280.0</td>\n",
       "      <td>11.0</td>\n",
       "    </tr>\n",
       "    <tr>\n",
       "      <th>9997</th>\n",
       "      <td>339.0</td>\n",
       "      <td>299.0</td>\n",
       "      <td>130.0</td>\n",
       "    </tr>\n",
       "    <tr>\n",
       "      <th>9998</th>\n",
       "      <td>315.0</td>\n",
       "      <td>166.0</td>\n",
       "      <td>199.0</td>\n",
       "    </tr>\n",
       "    <tr>\n",
       "      <th>9999</th>\n",
       "      <td>335.0</td>\n",
       "      <td>175.0</td>\n",
       "      <td>92.0</td>\n",
       "    </tr>\n",
       "  </tbody>\n",
       "</table>\n",
       "<p>10000 rows × 3 columns</p>\n",
       "</div>"
      ],
      "text/plain": [
       "       p[1]   p[2]   n[1]\n",
       "0     362.0  216.0   63.0\n",
       "1     392.0  223.0  160.0\n",
       "2     311.0  192.0  131.0\n",
       "3     349.0  160.0   67.0\n",
       "4     327.0  254.0   97.0\n",
       "...     ...    ...    ...\n",
       "9995  309.0  289.0  152.0\n",
       "9996  376.0  280.0   11.0\n",
       "9997  339.0  299.0  130.0\n",
       "9998  315.0  166.0  199.0\n",
       "9999  335.0  175.0   92.0\n",
       "\n",
       "[10000 rows x 3 columns]"
      ]
     },
     "execution_count": 26,
     "metadata": {},
     "output_type": "execute_result"
    }
   ],
   "source": [
    "import cml.data_v1 as cmldata\n",
    "\n",
    "# Sample in-code customization of spark configurations\n",
    "#from pyspark import SparkContext\n",
    "#SparkContext.setSystemProperty('spark.executor.cores', '1')\n",
    "#SparkContext.setSystemProperty('spark.executor.memory', '2g')\n",
    "\n",
    "CONNECTION_NAME = \"paul-aug26-aw-dl\"\n",
    "conn = cmldata.get_connection(CONNECTION_NAME)\n",
    "spark = conn.get_spark_session()\n",
    "\n",
    "import pyspark.pandas as ps\n",
    "\n",
    "df_from_sql = ps.read_table('DEFAULT.SALES_TABLE')\n",
    "df = df_from_sql.to_pandas()\n",
    "\n",
    "df"
   ]
  },
  {
   "cell_type": "markdown",
   "id": "b65707ac",
   "metadata": {
    "id": "b65707ac"
   },
   "source": [
    "### What's in the data?\n",
    "The data contains three columns:\n",
    "1. `p[1]` is the price (in dollars) of the first category (let's call it Category 1).\n",
    "2. `p[2]` is the price (in dollars) of the second category (Category 2).\n",
    "3. `n[1]` is the number of the items sold that are of Category 1.\n",
    "\n",
    "We don't see a column for `n[2]`, which would be the number of items sold that are Category 2. Here is where we make a **pretty big assumption** that we will sell all of the items. This makes our decision to be how to divvy up the limited space we have in order to maximize our revenue.\n",
    "The data was created to have a couple of key characteristics.\n",
    "1. As the price of Category 1 goes up, the number sold should decrease, so `p[1]` and `n[1]` have a negative correlation.\n",
    "2. As the price of Category 2 goes up, the number sold of Category 1 should increase, so `p[2]` and `n[1]` have a positive correlation.\n",
    "\n",
    "The correlation plot of the columns of the data is below."
   ]
  },
  {
   "cell_type": "code",
   "execution_count": 27,
   "id": "4cb22fe7",
   "metadata": {
    "colab": {
     "base_uri": "https://localhost:8080/",
     "height": 468
    },
    "id": "4cb22fe7",
    "outputId": "ed1f9d79-c4b5-415b-d0fe-91538d6071b2"
   },
   "outputs": [
    {
     "data": {
      "image/png": "[encoded data removed]",
      "text/plain": [
       "<Figure size 1080x360 with 2 Axes>"
      ]
     },
     "metadata": {
      "needs_background": "light"
     },
     "output_type": "display_data"
    }
   ],
   "source": [
    "fig, axes = plt.subplots(nrows=1, ncols=1, figsize=(15, 5))\n",
    "sns.heatmap(df[['p[1]','p[2]','n[1]']].corr(),annot=True, center=0,ax=axes)\n",
    "\n",
    "axes.set_title('Correlations')\n",
    "plt.show()"
   ]
  },
  {
   "cell_type": "markdown",
   "id": "a4aa96d4",
   "metadata": {
    "id": "a4aa96d4"
   },
   "source": [
    "In this problem, we've assumed that the amount of space we have available for the products is 200 units. In retail, this could be the amount of warehouse space, or for ticketing this could represent the number of seats available."
   ]
  },
  {
   "cell_type": "markdown",
   "id": "6e9c6157",
   "metadata": {
    "id": "6e9c6157"
   },
   "source": [
    "### Building regressors to predict sales\n",
    "\n",
    "The prices for each category item will be used to predict the number of Category 1 items sold. Here we build a regression model to form this relationship which will later be used as part of the optimization model."
   ]
  },
  {
   "cell_type": "code",
   "execution_count": 28,
   "id": "a70d5f2c",
   "metadata": {
    "id": "a70d5f2c"
   },
   "outputs": [],
   "source": [
    "from sklearn.compose import make_column_transformer\n",
    "from sklearn.linear_model import LinearRegression\n",
    "from sklearn.pipeline import make_pipeline\n",
    "from sklearn.metrics import r2_score\n",
    "from sklearn.model_selection import train_test_split      #importing scikit-learn's function for data splitting\n",
    "from sklearn.ensemble import GradientBoostingRegressor    #importing scikit-learn's gradient booster regressor function\n",
    "from sklearn.model_selection import cross_validate        #improting scikit-learn's cross validation function"
   ]
  },
  {
   "cell_type": "code",
   "execution_count": 29,
   "id": "3095da93",
   "metadata": {
    "id": "3095da93"
   },
   "outputs": [],
   "source": [
    "X = df[[\"p[1]\",\"p[2]\"]]\n",
    "y = df[\"n[1]\"]\n",
    "# Split the data for training and testing\n",
    "X_train, X_test, y_train, y_test = train_test_split(\n",
    "    X, y, train_size=0.75, random_state=1\n",
    ")"
   ]
  },
  {
   "cell_type": "markdown",
   "id": "f8d713c2",
   "metadata": {
    "id": "f8d713c2"
   },
   "source": [
    "First we'll start with a linear regression model."
   ]
  },
  {
   "cell_type": "code",
   "execution_count": 30,
   "id": "33f4eaec",
   "metadata": {
    "colab": {
     "base_uri": "https://localhost:8080/"
    },
    "id": "33f4eaec",
    "outputId": "03787c3e-7975-4178-9232-ac9365cdf892"
   },
   "outputs": [
    {
     "data": {
      "text/plain": [
       "(array([0.00040251, 0.00018477, 0.00012255, 0.00034124, 0.00059789]),\n",
       " array([-0.00028026,  0.00072688,  0.00016201, -0.00249386, -0.00275576]))"
      ]
     },
     "execution_count": 30,
     "metadata": {},
     "output_type": "execute_result"
    }
   ],
   "source": [
    "linear_regressor = make_pipeline(LinearRegression())\n",
    "linear_regressor.fit(X_train, y_train)\n",
    "linear_regression_validation = cross_validate(linear_regressor, X_train, y_train, cv=5, return_train_score=True, return_estimator=True)\n",
    "\n",
    "linear_regression_validation['train_score'],linear_regression_validation['test_score']"
   ]
  },
  {
   "cell_type": "markdown",
   "id": "cc9dd59b",
   "metadata": {
    "id": "cc9dd59b"
   },
   "source": [
    "Let's try a gradient boosting model as well."
   ]
  },
  {
   "cell_type": "code",
   "execution_count": 31,
   "id": "9b8eb814",
   "metadata": {
    "colab": {
     "base_uri": "https://localhost:8080/"
    },
    "id": "9b8eb814",
    "outputId": "796bb333-1591-4492-985e-48878e0103f9"
   },
   "outputs": [
    {
     "data": {
      "text/plain": [
       "(array([0.00685851, 0.00711084, 0.00592295, 0.00730277, 0.00889543]),\n",
       " array([-0.00116915, -0.00041687, -0.0017215 , -0.00150864, -0.00479574]))"
      ]
     },
     "execution_count": 31,
     "metadata": {},
     "output_type": "execute_result"
    }
   ],
   "source": [
    "from sklearn.ensemble import GradientBoostingRegressor\n",
    "xgb_regressor = make_pipeline(GradientBoostingRegressor(n_estimators=10))\n",
    "xgb_regressor.fit(X_train, y_train)\n",
    "xgb_regressor_validation = cross_validate(xgb_regressor, X_train, y_train, cv=5, return_train_score=True, return_estimator=True)\n",
    "\n",
    "xgb_regressor_validation['train_score'], xgb_regressor_validation['test_score']\n"
   ]
  },
  {
   "cell_type": "markdown",
   "id": "mTquaGiJF2pO",
   "metadata": {
    "id": "mTquaGiJF2pO"
   },
   "source": [
    "## Price optimization model with competing products\n",
    "\n",
    "Our problem is to:\n",
    "1.\tDetermine the number of each category of product to make available given the overall restriction of what we can offer.\n",
    "2.\tWe are also instructed to make sure there are a minimum number of each category made available as well as a minimum and maximum price for each category.\n",
    "3.\tLastly, the product categories should be decreasing in price, meaning Category 1 should be the most expensive, and so on. Specifically, we must make sure there is at least a $50 gap between categories, but no more than $100.\n",
    "\n",
    "With the predictive part in place, it's time to build the optimization model. The model is formulated (i.e. the mathematical representation) for an unspecified number of categories, but the code will reflect that we have two categories of products in this problem. We start by setting some parameter values (not to be confused with ML hyperparameters) and initialize the optimization model.\n",
    "\n"
   ]
  },
  {
   "cell_type": "markdown",
   "id": "95b966b2",
   "metadata": {
    "id": "95b966b2"
   },
   "source": [
    "### Initialize model and set input parameters\n",
    "- $C$: Number of product categories\n",
    "- $N$: Total amount of space available\n",
    "- $\\lambda$: Price control parameter\n",
    "\n",
    "Here is the first mention of a price control parameter. It is fairly common in optimization modeling to add penalty terms to try and prevent undesirable outcomes. This is akin to using penalty terms in machine learning and applied statistics to prevent overfitting, with [Lasso](https://en.wikipedia.org/wiki/Lasso_(statistics)) and [Ridge](https://en.wikipedia.org/wiki/Ridge_regression) regression as a couple of common examples."
   ]
  },
  {
   "cell_type": "code",
   "execution_count": 32,
   "id": "67db9804",
   "metadata": {
    "colab": {
     "base_uri": "https://localhost:8080/"
    },
    "id": "67db9804",
    "outputId": "9662cce1-59dd-4852-89b2-07bb39bd233a"
   },
   "outputs": [],
   "source": [
    "#### Initialize the model\n",
    "m = gp.Model(\"price optimization\")\n",
    "\n",
    "products = [1,2]            #### Category 1 and Category 2\n",
    "N = 200                     #### limit on available space\n",
    "l = 0                       #### price control, we'll start this at 0"
   ]
  },
  {
   "cell_type": "markdown",
   "id": "ac5a875b",
   "metadata": {
    "id": "ac5a875b"
   },
   "source": [
    "### Decision variables\n",
    "- $p_c$: price per item in category $c = 1,2,\\dots, C$\n",
    "- $n_c$: number of items allocated to category, predicted using features $p_c$, $c = 1,2,\\dots, C$"
   ]
  },
  {
   "cell_type": "code",
   "execution_count": 33,
   "id": "bbe94a3c",
   "metadata": {
    "id": "bbe94a3c"
   },
   "outputs": [],
   "source": [
    "p = m.addVars(products, name=\"p\")            #### price decision variables\n",
    "n = m.addVars(products, name=\"n\")            #### decision variable for number of items in each category"
   ]
  },
  {
   "cell_type": "markdown",
   "id": "721614e0",
   "metadata": {
    "id": "721614e0"
   },
   "source": [
    "### Constraints"
   ]
  },
  {
   "cell_type": "markdown",
   "id": "8403f941",
   "metadata": {
    "id": "8403f941"
   },
   "source": [
    "We need to have a minimum number of each category available.\n",
    "\\begin{align*}\n",
    "n_c \\ge l_{n_c}\n",
    "\\end{align*}\n",
    "\n",
    "We also set lower and upper bounds on the prices.\n",
    "\\begin{align*}\n",
    "l_{n_c} \\le p_c \\le u_{p_c}\n",
    "\\end{align*}"
   ]
  },
  {
   "cell_type": "code",
   "execution_count": 34,
   "id": "edec4432",
   "metadata": {
    "id": "edec4432"
   },
   "outputs": [],
   "source": [
    "min_items = {1:50,2:50}\n",
    "price_bounds = {1:[300,400], 2:[100,300]}\n",
    "m.addConstrs(n[c] >= min_items[c] for c in products)        #### we could hardcode 50 instead of min_items, but this is more flexible\n",
    "m.addConstr(p[1] == [300,400])                              #### this is a shorthand way to code 300 <= p[1] <= 400\n",
    "m.addConstr(p[2] == [100,300]);"
   ]
  },
  {
   "cell_type": "markdown",
   "id": "3bef9e0d",
   "metadata": {
    "id": "3bef9e0d"
   },
   "source": [
    "Another note: each of the above constraints can be addressed when defining the decision variables. Here is an example for the decision variable $n$."
   ]
  },
  {
   "cell_type": "code",
   "execution_count": 35,
   "id": "e2065d83",
   "metadata": {
    "id": "e2065d83"
   },
   "outputs": [],
   "source": [
    "#price_lb = {1:300, 2:100}\n",
    "#price_ub = {1:400, 2:300}\n",
    "#p = m.addVars(products, lb = price_lb, ub = price_ub, name=\"p\")     #### each price is now bounded\n",
    "#n = m.addVars(products, lb = min_items, name=\"n\")"
   ]
  },
  {
   "cell_type": "markdown",
   "id": "0578e271",
   "metadata": {
    "id": "0578e271"
   },
   "source": [
    "In general, the number of items allocated must equal the total available space.\n",
    "\\begin{equation*}\n",
    "n_1 + n_2 + \\dots + n_C = \\sum_{c}n_c = N \\\\\n",
    "\\end{equation*}\n",
    "Note that this, along with the constraint on the minimum number available means we don't have to specify an upper bound for each $n_c$."
   ]
  },
  {
   "cell_type": "code",
   "execution_count": 36,
   "id": "140e739f",
   "metadata": {
    "id": "140e739f"
   },
   "outputs": [],
   "source": [
    "m.addConstr(n.sum() ==  N);     #### remember we set N = 200 earlier"
   ]
  },
  {
   "cell_type": "markdown",
   "id": "b17a1e78",
   "metadata": {
    "id": "b17a1e78"
   },
   "source": [
    "The last set of constraints are for price ordering. This requires the subsequent category to be cost between $50 and $100 less than the previous.\n",
    "\\begin{equation*}\n",
    "50 \\le p_c - p_{c+1} \\le 100\n",
    "\\end{equation*}"
   ]
  },
  {
   "cell_type": "code",
   "execution_count": 37,
   "id": "1428be22",
   "metadata": {
    "id": "1428be22"
   },
   "outputs": [],
   "source": [
    "m.addConstr(p[1]-p[2] == [50,100]);"
   ]
  },
  {
   "cell_type": "markdown",
   "id": "51ee2204",
   "metadata": {
    "id": "51ee2204"
   },
   "source": [
    "### Objective function"
   ]
  },
  {
   "cell_type": "markdown",
   "id": "6eb69e54",
   "metadata": {
    "id": "6eb69e54"
   },
   "source": [
    "We want to maximize total revenue with the portion of total revenue coming from category $c$ being $p_cn_c$. This makes the total revenue $\\sum_{c} p_c n_c$. That is the first part of the objective. Earlier a price control parameter was introduced which is the second part of the objective. The lambda parameter captures the trade-off between the revenue and price-control pieces. This term penalizes the model from setting too high of prices since doing so could lose sales. Our model assumed we'll sell all of the items so having this penalty term can make this assumption more realistic. For reference, [here is a good source](https://papers.ssrn.com/sol3/papers.cfm?abstract_id=4565407).\n",
    "\n",
    "This term will be defined as $λ (\\sum_{c} p_c^2)$ for this problem. So, the complete objective is:\n",
    "\\begin{equation*}\n",
    "\\textrm{maximize} \\sum_{c} p_c n_c - λ (\\sum_{c} p_c^2)\n",
    "\\end{equation*}"
   ]
  },
  {
   "cell_type": "code",
   "execution_count": 38,
   "id": "a2cfcabc",
   "metadata": {
    "id": "a2cfcabc"
   },
   "outputs": [],
   "source": [
    "revenue = gp.quicksum(p[c]*n[c] for c in products)          #### you could also use the more simple p.prod(n)\n",
    "penalty = l*(p[1]**2+p[2]**2)                               #### we used l as the lambda parameter earlier\n",
    "m.setObjective(revenue - penalty, sense = GRB.MAXIMIZE)"
   ]
  },
  {
   "cell_type": "markdown",
   "id": "c707af60",
   "metadata": {
    "id": "c707af60"
   },
   "source": [
    "### Integrate the ML model\n"
   ]
  },
  {
   "cell_type": "markdown",
   "id": "38d41039",
   "metadata": {
    "id": "38d41039"
   },
   "source": [
    "Right now, if we were to run the optimization, the solution would be to set the price for Category 1 to $400, Category 2 to $300, and sell 150 and 50 of each item, respectively. That's because we have yet to add in the relationship between price and demand that was derived from the ML model. To integrate the machine learning model into the optimization model, we'll use the Gurobi Machine Learning package. The magic happens using `add_predictor_constr` function."
   ]
  },
  {
   "cell_type": "code",
   "execution_count": 39,
   "id": "b113eda2",
   "metadata": {
    "colab": {
     "base_uri": "https://localhost:8080/"
    },
    "id": "b113eda2",
    "outputId": "9affc1a4-9bdc-4cf3-9914-df2aa795391b"
   },
   "outputs": [],
   "source": [
    "#### install the package and load the required function\n",
    "from gurobi_ml import add_predictor_constr"
   ]
  },
  {
   "cell_type": "markdown",
   "id": "119a8f7e",
   "metadata": {
    "id": "119a8f7e"
   },
   "source": [
    "This additional package is useful when we have **decision variables** that are also **features** of a machine learning model. First, we need a data frame that contains these decision variables. It is important to make sure the indices of the data frame have the **same name** as the training data for the machine learning model."
   ]
  },
  {
   "cell_type": "code",
   "execution_count": 40,
   "id": "0b1ac8cc",
   "metadata": {
    "id": "0b1ac8cc"
   },
   "outputs": [],
   "source": [
    "m_feats = pd.DataFrame({\"p[1]\":[p[1]],\"p[2]\":[p[2]]})"
   ]
  },
  {
   "cell_type": "markdown",
   "id": "3263a396",
   "metadata": {
    "id": "3263a396"
   },
   "source": [
    "Adding the predictive model to the optimization model requires specifying the model we want to use `(m)`, regression object `(xgb_regressor)`, feature data frame `(m_feats)`, and the output decision variable `(n[1])`. Remember `n[2]` is **NOT** the output of the regression. We can then print the number of variables and constraints added to the model using `print_stats`.\n"
   ]
  },
  {
   "cell_type": "code",
   "execution_count": 41,
   "id": "1fe6c59f",
   "metadata": {
    "colab": {
     "base_uri": "https://localhost:8080/"
    },
    "id": "1fe6c59f",
    "outputId": "7248afdd-a2a9-4564-da7c-eec86166685c"
   },
   "outputs": [
    {
     "name": "stdout",
     "output_type": "stream",
     "text": [
      "Model for pipe:\n",
      "90 variables\n",
      "11 constraints\n",
      "271 general constraints\n",
      "Input has shape (1, 2)\n",
      "Output has shape (1, 1)\n",
      "\n",
      "Pipeline has 1 steps:\n",
      "\n",
      "--------------------------------------------------------------------------------\n",
      "Step            Output Shape    Variables              Constraints              \n",
      "                                                Linear    Quadratic      General\n",
      "================================================================================\n",
      "gbtree_reg            (1, 1)           90           11            0          271\n",
      "\n",
      "--------------------------------------------------------------------------------\n"
     ]
    }
   ],
   "source": [
    "pred_constr = add_predictor_constr(m, xgb_regressor, m_feats, n[1])\n",
    "pred_constr.print_stats()"
   ]
  },
  {
   "cell_type": "markdown",
   "id": "53ce50f6",
   "metadata": {
    "id": "53ce50f6"
   },
   "source": [
    "### Solve the optimization and get the solution"
   ]
  },
  {
   "cell_type": "markdown",
   "id": "ec80341d",
   "metadata": {
    "id": "ec80341d"
   },
   "source": [
    "Since this is a quadratic, non-convex problem we set the `NonConvex` parameter to 2. See the [documentation](https://www.gurobi.com/documentation/current/refman/nonconvex.html) for more information. We'll also print out the optimal solution."
   ]
  },
  {
   "cell_type": "code",
   "execution_count": 42,
   "id": "d04d5e5b",
   "metadata": {
    "colab": {
     "base_uri": "https://localhost:8080/"
    },
    "id": "d04d5e5b",
    "outputId": "3d05932b-8ec1-4f41-a1ed-0d4b17f8ce60"
   },
   "outputs": [
    {
     "name": "stdout",
     "output_type": "stream",
     "text": [
      "Set parameter NonConvex to value 2\n",
      "Gurobi Optimizer version 11.0.3 build v11.0.3rc0 (linux64 - \"Ubuntu 20.04.6 LTS\")\n",
      "\n",
      "CPU model: AMD EPYC 7571, instruction set [SSE2|AVX|AVX2]\n",
      "Thread count: 48 physical cores, 96 logical processors, using up to 32 threads\n",
      "\n",
      "Optimize a model with 17 rows, 97 columns and 102 nonzeros\n",
      "Model fingerprint: 0xc062a261\n",
      "Model has 2 quadratic objective terms\n",
      "Model has 271 general constraints\n",
      "Variable types: 17 continuous, 80 integer (80 binary)\n",
      "Coefficient statistics:\n",
      "  Matrix range     [1e-01, 1e+00]\n",
      "  Objective range  [0e+00, 0e+00]\n",
      "  QObjective range [2e+00, 2e+00]\n",
      "  Bounds range     [1e+00, 2e+02]\n",
      "  RHS range        [1e+00, 4e+02]\n",
      "  GenCon rhs range [1e-01, 4e+02]\n",
      "  GenCon coe range [1e+00, 1e+00]\n",
      "Presolve added 65 rows and 0 columns\n",
      "Presolve removed 0 rows and 7 columns\n",
      "Presolve time: 0.02s\n",
      "Presolved: 87 rows, 93 columns, 268 nonzeros\n",
      "Presolved model has 42 SOS constraint(s)\n",
      "Presolved model has 2 bilinear constraint(s)\n",
      "\n",
      "Solving non-convex MIQCP\n",
      "\n",
      "Variable types: 50 continuous, 43 integer (43 binary)\n",
      "Found heuristic solution: objective 70347.774788\n",
      "\n",
      "Root relaxation: objective 7.500000e+04, 38 iterations, 0.00 seconds (0.00 work units)\n",
      "\n",
      "    Nodes    |    Current Node    |     Objective Bounds      |     Work\n",
      " Expl Unexpl |  Obj  Depth IntInf | Incumbent    BestBd   Gap | It/Node Time\n",
      "\n",
      "     0     0 75000.0000    0    7 70347.7748 75000.0000  6.61%     -    0s\n",
      "     0     0 75000.0000    0    7 70347.7748 75000.0000  6.61%     -    0s\n",
      "     0     0 75000.0000    0    7 70347.7748 75000.0000  6.61%     -    0s\n",
      "H    0     0                    70347.774907 75000.0000  6.61%     -    0s\n",
      "     0     0 75000.0000    0    6 70347.7749 75000.0000  6.61%     -    0s\n",
      "     0     0 75000.0000    0    5 70347.7749 75000.0000  6.61%     -    0s\n",
      "     0     0 75000.0000    0    5 70347.7749 75000.0000  6.61%     -    0s\n",
      "     0     2 75000.0000    0    5 70347.7749 75000.0000  6.61%     -    0s\n",
      "\n",
      "Cutting planes:\n",
      "  Learned: 2\n",
      "  Cover: 2\n",
      "\n",
      "Explored 88 nodes (204 simplex iterations) in 0.13 seconds (0.01 work units)\n",
      "Thread count was 32 (of 96 available processors)\n",
      "\n",
      "Solution count 1: 70347.8 \n",
      "\n",
      "Optimal solution found (tolerance 1.00e-04)\n",
      "Best objective 7.034777490673e+04, best bound 7.034777490673e+04, gap 0.0000%\n"
     ]
    }
   ],
   "source": [
    "m.Params.NonConvex = 2\n",
    "m.optimize()"
   ]
  },
  {
   "cell_type": "code",
   "execution_count": 43,
   "id": "ec56f1da",
   "metadata": {
    "colab": {
     "base_uri": "https://localhost:8080/"
    },
    "id": "ec56f1da",
    "outputId": "c972e636-b4ca-4010-fe29-12b766ead3a3"
   },
   "outputs": [
    {
     "name": "stdout",
     "output_type": "stream",
     "text": [
      "\n",
      "Optimal price for the two categories:\n",
      " 400.0 300.0\n",
      "\n",
      "Optimal number of space assigned to the two categories:\n",
      " 103 97\n",
      "\n",
      "Total revenue:\n",
      " 70347.77\n"
     ]
    }
   ],
   "source": [
    "print(\"\\nOptimal price for the two categories:\\n\",round(p[1].X,2),round(p[2].X,2))\n",
    "print(\"\\nOptimal number of space assigned to the two categories:\\n\",round(n[1].X), round(n[2].X))\n",
    "print(\"\\nTotal revenue:\\n\",round(revenue.getValue(),2))"
   ]
  },
  {
   "cell_type": "markdown",
   "id": "5750e377-780b-42e9-82ca-10effd272923",
   "metadata": {},
   "source": [
    "## Log MLFlow Metrics"
   ]
  },
  {
   "cell_type": "code",
   "execution_count": 44,
   "id": "98b48f73-cd20-40d1-acc4-ee0f6bdae2ca",
   "metadata": {},
   "outputs": [],
   "source": [
    "mlflow.log_metric(\"optimal_price_p1\", round(p[1].X,2))\n",
    "mlflow.log_metric(\"optimal_price_p2\", round(p[2].X,2))"
   ]
  },
  {
   "cell_type": "code",
   "execution_count": 45,
   "id": "259472fa-9f9d-438e-9526-623b7e5bc7cf",
   "metadata": {},
   "outputs": [],
   "source": [
    "mlflow.log_metric(\"optimal_quantity_p1\", round(n[1].X))\n",
    "mlflow.log_metric(\"optimal_quantity_p1\", round(n[2].X))"
   ]
  },
  {
   "cell_type": "code",
   "execution_count": 46,
   "id": "1002b68b-231e-4a02-9fce-ccded31af057",
   "metadata": {},
   "outputs": [],
   "source": [
    "mlflow.log_metric(\"optimal_revenue\", round(revenue.getValue(),2))"
   ]
  },
  {
   "cell_type": "code",
   "execution_count": 47,
   "id": "a4a7dab4-89e5-40b7-8954-65a04e40560f",
   "metadata": {},
   "outputs": [],
   "source": [
    "mlflow.end_run()"
   ]
  },
  {
   "cell_type": "markdown",
   "id": "5e9e2bbd",
   "metadata": {
    "id": "5e9e2bbd"
   },
   "source": [
    "## Follow-up questions\n",
    "At this point the λ value is set to zero, meaning we are not penalizing the price. One way to see the sensitivity of the prices and number of items set to each category is solving the model for multiple values of λ. This can be done fairly easy in `gurobipy`. Check out the documentation for how Gurobi can handle [multiple scenarios]('https://www.gurobi.com/documentation/current/refman/multiple_scenarios.html').\n",
    "\n",
    "We also only used the trained `xgb_regressor` for the optimization to show the number of variables and constraints added to the model. Test the `linear_regressor` that was trained as well. You can do that by re-running the cells or by adding to the code to [remove the previous predictor constraints](https://gurobi-machinelearning.readthedocs.io/en/stable/auto_generated/gurobi_ml.sklearn.linear_regression.LinearRegressionConstr.html#gurobi_ml.sklearn.linear_regression.LinearRegressionConstr.remove) and adding new ones."
   ]
  },
  {
   "cell_type": "markdown",
   "id": "e0888fb6",
   "metadata": {
    "id": "e0888fb6"
   },
   "source": [
    "Copyright © 2024 Gurobi Optimization, LLC"
   ]
  },
  {
   "cell_type": "code",
   "execution_count": 20,
   "id": "Widke5Q8jBLY",
   "metadata": {
    "id": "Widke5Q8jBLY"
   },
   "outputs": [],
   "source": []
  }
 ],
 "metadata": {
  "colab": {
   "provenance": []
  },
  "kernelspec": {
   "display_name": "Python 3 (ipykernel)",
   "language": "python",
   "name": "python3"
  },
  "language_info": {
   "codemirror_mode": {
    "name": "ipython",
    "version": 3
   },
   "file_extension": ".py",
   "mimetype": "text/x-python",
   "name": "python",
   "nbconvert_exporter": "python",
   "pygments_lexer": "ipython3",
   "version": "3.10.13"
  }
 },
 "nbformat": 4,
 "nbformat_minor": 5
}
